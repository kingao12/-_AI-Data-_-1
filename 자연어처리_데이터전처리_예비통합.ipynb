{
  "cells": [
    {
      "cell_type": "markdown",
      "metadata": {
        "id": "view-in-github",
        "colab_type": "text"
      },
      "source": [
        "<a href=\"https://colab.research.google.com/github/kingao12/-_AI-Data-_-1/blob/main/%EC%9E%90%EC%97%B0%EC%96%B4%EC%B2%98%EB%A6%AC_%EB%8D%B0%EC%9D%B4%ED%84%B0%EC%A0%84%EC%B2%98%EB%A6%AC_%EC%98%88%EB%B9%84%ED%86%B5%ED%95%A9.ipynb\" target=\"_parent\"><img src=\"https://colab.research.google.com/assets/colab-badge.svg\" alt=\"Open In Colab\"/></a>"
      ]
    },
    {
      "cell_type": "code",
      "execution_count": null,
      "metadata": {
        "id": "FNfZv33wRZ-o"
      },
      "outputs": [],
      "source": [
        "import pandas as pd\n",
        "import numpy as np\n",
        "import matplotlib.pyplot as plt\n",
        "import seaborn as sns\n",
        "\n",
        "# 정규식을 사용하는 라이브러리\n",
        "import re"
      ]
    },
    {
      "cell_type": "code",
      "execution_count": null,
      "metadata": {
        "colab": {
          "base_uri": "https://localhost:8080/"
        },
        "id": "819eae96-a6c0-49bc-b751-5ba0119dcf06",
        "outputId": "c575ca30-e941-4818-8160-c9460ff81602"
      },
      "outputs": [
        {
          "name": "stdout",
          "output_type": "stream",
          "text": [
            "Collecting selenium\n",
            "  Downloading selenium-4.23.0-py3-none-any.whl (9.4 MB)\n",
            "\u001b[2K     \u001b[90m━━━━━━━━━━━━━━━━━━━━━━━━━━━━━━━━━━━━━━━━\u001b[0m \u001b[32m9.4/9.4 MB\u001b[0m \u001b[31m14.0 MB/s\u001b[0m eta \u001b[36m0:00:00\u001b[0m\n",
            "\u001b[?25hRequirement already satisfied: urllib3[socks]<3,>=1.26 in /usr/local/lib/python3.10/dist-packages (from selenium) (2.0.7)\n",
            "Collecting trio~=0.17 (from selenium)\n",
            "  Downloading trio-0.26.0-py3-none-any.whl (475 kB)\n",
            "\u001b[2K     \u001b[90m━━━━━━━━━━━━━━━━━━━━━━━━━━━━━━━━━━━━━━━━\u001b[0m \u001b[32m475.7/475.7 kB\u001b[0m \u001b[31m14.2 MB/s\u001b[0m eta \u001b[36m0:00:00\u001b[0m\n",
            "\u001b[?25hCollecting trio-websocket~=0.9 (from selenium)\n",
            "  Downloading trio_websocket-0.11.1-py3-none-any.whl (17 kB)\n",
            "Requirement already satisfied: certifi>=2021.10.8 in /usr/local/lib/python3.10/dist-packages (from selenium) (2024.7.4)\n",
            "Collecting typing_extensions~=4.9.0 (from selenium)\n",
            "  Downloading typing_extensions-4.9.0-py3-none-any.whl (32 kB)\n",
            "Requirement already satisfied: websocket-client==1.8.0 in /usr/local/lib/python3.10/dist-packages (from selenium) (1.8.0)\n",
            "Requirement already satisfied: attrs>=23.2.0 in /usr/local/lib/python3.10/dist-packages (from trio~=0.17->selenium) (23.2.0)\n",
            "Requirement already satisfied: sortedcontainers in /usr/local/lib/python3.10/dist-packages (from trio~=0.17->selenium) (2.4.0)\n",
            "Requirement already satisfied: idna in /usr/local/lib/python3.10/dist-packages (from trio~=0.17->selenium) (3.7)\n",
            "Collecting outcome (from trio~=0.17->selenium)\n",
            "  Downloading outcome-1.3.0.post0-py2.py3-none-any.whl (10 kB)\n",
            "Requirement already satisfied: sniffio>=1.3.0 in /usr/local/lib/python3.10/dist-packages (from trio~=0.17->selenium) (1.3.1)\n",
            "Requirement already satisfied: exceptiongroup in /usr/local/lib/python3.10/dist-packages (from trio~=0.17->selenium) (1.2.2)\n",
            "Collecting wsproto>=0.14 (from trio-websocket~=0.9->selenium)\n",
            "  Downloading wsproto-1.2.0-py3-none-any.whl (24 kB)\n",
            "Requirement already satisfied: pysocks!=1.5.7,<2.0,>=1.5.6 in /usr/local/lib/python3.10/dist-packages (from urllib3[socks]<3,>=1.26->selenium) (1.7.1)\n",
            "Collecting h11<1,>=0.9.0 (from wsproto>=0.14->trio-websocket~=0.9->selenium)\n",
            "  Downloading h11-0.14.0-py3-none-any.whl (58 kB)\n",
            "\u001b[2K     \u001b[90m━━━━━━━━━━━━━━━━━━━━━━━━━━━━━━━━━━━━━━━━\u001b[0m \u001b[32m58.3/58.3 kB\u001b[0m \u001b[31m7.0 MB/s\u001b[0m eta \u001b[36m0:00:00\u001b[0m\n",
            "\u001b[?25hInstalling collected packages: typing_extensions, outcome, h11, wsproto, trio, trio-websocket, selenium\n",
            "  Attempting uninstall: typing_extensions\n",
            "    Found existing installation: typing_extensions 4.12.2\n",
            "    Uninstalling typing_extensions-4.12.2:\n",
            "      Successfully uninstalled typing_extensions-4.12.2\n",
            "\u001b[31mERROR: pip's dependency resolver does not currently take into account all the packages that are installed. This behaviour is the source of the following dependency conflicts.\n",
            "torch 2.3.1+cu121 requires nvidia-cublas-cu12==12.1.3.1; platform_system == \"Linux\" and platform_machine == \"x86_64\", which is not installed.\n",
            "torch 2.3.1+cu121 requires nvidia-cuda-cupti-cu12==12.1.105; platform_system == \"Linux\" and platform_machine == \"x86_64\", which is not installed.\n",
            "torch 2.3.1+cu121 requires nvidia-cuda-nvrtc-cu12==12.1.105; platform_system == \"Linux\" and platform_machine == \"x86_64\", which is not installed.\n",
            "torch 2.3.1+cu121 requires nvidia-cuda-runtime-cu12==12.1.105; platform_system == \"Linux\" and platform_machine == \"x86_64\", which is not installed.\n",
            "torch 2.3.1+cu121 requires nvidia-cudnn-cu12==8.9.2.26; platform_system == \"Linux\" and platform_machine == \"x86_64\", which is not installed.\n",
            "torch 2.3.1+cu121 requires nvidia-cufft-cu12==11.0.2.54; platform_system == \"Linux\" and platform_machine == \"x86_64\", which is not installed.\n",
            "torch 2.3.1+cu121 requires nvidia-curand-cu12==10.3.2.106; platform_system == \"Linux\" and platform_machine == \"x86_64\", which is not installed.\n",
            "torch 2.3.1+cu121 requires nvidia-cusolver-cu12==11.4.5.107; platform_system == \"Linux\" and platform_machine == \"x86_64\", which is not installed.\n",
            "torch 2.3.1+cu121 requires nvidia-cusparse-cu12==12.1.0.106; platform_system == \"Linux\" and platform_machine == \"x86_64\", which is not installed.\n",
            "torch 2.3.1+cu121 requires nvidia-nccl-cu12==2.20.5; platform_system == \"Linux\" and platform_machine == \"x86_64\", which is not installed.\n",
            "torch 2.3.1+cu121 requires nvidia-nvtx-cu12==12.1.105; platform_system == \"Linux\" and platform_machine == \"x86_64\", which is not installed.\u001b[0m\u001b[31m\n",
            "\u001b[0mSuccessfully installed h11-0.14.0 outcome-1.3.0.post0 selenium-4.23.0 trio-0.26.0 trio-websocket-0.11.1 typing_extensions-4.9.0 wsproto-1.2.0\n"
          ]
        }
      ],
      "source": [
        "!pip install selenium"
      ]
    },
    {
      "cell_type": "code",
      "execution_count": null,
      "metadata": {
        "colab": {
          "base_uri": "https://localhost:8080/"
        },
        "id": "c8d83a34-25ef-4033-b0a0-a295c97825fd",
        "outputId": "b3de2d08-e41a-4b6f-842f-508f920bda74"
      },
      "outputs": [
        {
          "name": "stdout",
          "output_type": "stream",
          "text": [
            "Requirement already satisfied: wordcloud in /usr/local/lib/python3.10/dist-packages (1.9.3)\n",
            "Requirement already satisfied: numpy>=1.6.1 in /usr/local/lib/python3.10/dist-packages (from wordcloud) (1.25.2)\n",
            "Requirement already satisfied: pillow in /usr/local/lib/python3.10/dist-packages (from wordcloud) (9.4.0)\n",
            "Requirement already satisfied: matplotlib in /usr/local/lib/python3.10/dist-packages (from wordcloud) (3.7.1)\n",
            "Requirement already satisfied: contourpy>=1.0.1 in /usr/local/lib/python3.10/dist-packages (from matplotlib->wordcloud) (1.2.1)\n",
            "Requirement already satisfied: cycler>=0.10 in /usr/local/lib/python3.10/dist-packages (from matplotlib->wordcloud) (0.12.1)\n",
            "Requirement already satisfied: fonttools>=4.22.0 in /usr/local/lib/python3.10/dist-packages (from matplotlib->wordcloud) (4.53.1)\n",
            "Requirement already satisfied: kiwisolver>=1.0.1 in /usr/local/lib/python3.10/dist-packages (from matplotlib->wordcloud) (1.4.5)\n",
            "Requirement already satisfied: packaging>=20.0 in /usr/local/lib/python3.10/dist-packages (from matplotlib->wordcloud) (24.1)\n",
            "Requirement already satisfied: pyparsing>=2.3.1 in /usr/local/lib/python3.10/dist-packages (from matplotlib->wordcloud) (3.1.2)\n",
            "Requirement already satisfied: python-dateutil>=2.7 in /usr/local/lib/python3.10/dist-packages (from matplotlib->wordcloud) (2.8.2)\n",
            "Requirement already satisfied: six>=1.5 in /usr/local/lib/python3.10/dist-packages (from python-dateutil>=2.7->matplotlib->wordcloud) (1.16.0)\n"
          ]
        }
      ],
      "source": [
        "!pip install wordcloud"
      ]
    },
    {
      "cell_type": "code",
      "execution_count": null,
      "metadata": {
        "colab": {
          "base_uri": "https://localhost:8080/"
        },
        "id": "4e958d62-75ba-4b5a-a810-68a1a4cf5e2c",
        "outputId": "ff4c3d2d-8a65-4dc0-e007-620ec0eaa263"
      },
      "outputs": [
        {
          "name": "stdout",
          "output_type": "stream",
          "text": [
            "Requirement already satisfied: openpyxl in /usr/local/lib/python3.10/dist-packages (3.1.5)\n",
            "Requirement already satisfied: et-xmlfile in /usr/local/lib/python3.10/dist-packages (from openpyxl) (1.1.0)\n"
          ]
        }
      ],
      "source": [
        "!pip install openpyxl"
      ]
    },
    {
      "cell_type": "code",
      "execution_count": null,
      "metadata": {
        "colab": {
          "base_uri": "https://localhost:8080/"
        },
        "id": "TSzVBGlo5YoW",
        "outputId": "1d1cc0bc-2502-4ddc-8153-4dabce4d7b95"
      },
      "outputs": [
        {
          "name": "stdout",
          "output_type": "stream",
          "text": [
            "Collecting webdriver_manager\n",
            "  Downloading webdriver_manager-4.0.1-py2.py3-none-any.whl (27 kB)\n",
            "Requirement already satisfied: requests in /usr/local/lib/python3.10/dist-packages (from webdriver_manager) (2.31.0)\n",
            "Collecting python-dotenv (from webdriver_manager)\n",
            "  Downloading python_dotenv-1.0.1-py3-none-any.whl (19 kB)\n",
            "Requirement already satisfied: packaging in /usr/local/lib/python3.10/dist-packages (from webdriver_manager) (24.1)\n",
            "Requirement already satisfied: charset-normalizer<4,>=2 in /usr/local/lib/python3.10/dist-packages (from requests->webdriver_manager) (3.3.2)\n",
            "Requirement already satisfied: idna<4,>=2.5 in /usr/local/lib/python3.10/dist-packages (from requests->webdriver_manager) (3.7)\n",
            "Requirement already satisfied: urllib3<3,>=1.21.1 in /usr/local/lib/python3.10/dist-packages (from requests->webdriver_manager) (2.0.7)\n",
            "Requirement already satisfied: certifi>=2017.4.17 in /usr/local/lib/python3.10/dist-packages (from requests->webdriver_manager) (2024.7.4)\n",
            "Installing collected packages: python-dotenv, webdriver_manager\n",
            "Successfully installed python-dotenv-1.0.1 webdriver_manager-4.0.1\n"
          ]
        }
      ],
      "source": [
        "!pip install webdriver_manager"
      ]
    },
    {
      "cell_type": "code",
      "execution_count": null,
      "metadata": {
        "id": "g_6t04JeFI_p"
      },
      "outputs": [],
      "source": [
        "import pandas as pd\n",
        "import matplotlib.pyplot as plt\n",
        "from wordcloud import WordCloud\n",
        "import time\n",
        "from selenium import webdriver\n",
        "from selenium.webdriver.common.by import By\n",
        "from webdriver_manager.chrome import ChromeDriverManager"
      ]
    },
    {
      "cell_type": "code",
      "execution_count": null,
      "metadata": {
        "id": "dK4gGwbL-9h4"
      },
      "outputs": [],
      "source": [
        "chrome_options = webdriver.ChromeOptions()\n",
        "chrome_options.add_argument('--headless')\n",
        "chrome_options.add_argument('--no-sandbox')\n",
        "chrome_options.add_argument('--disable-dev-shm-usage')\n",
        "chrome_options.add_argument('--single-process')\n",
        "\n",
        "browser = webdriver.Chrome(options=chrome_options)"
      ]
    },
    {
      "cell_type": "code",
      "execution_count": null,
      "metadata": {
        "id": "b8d57325-c442-469a-bee6-0653fa7c2d06"
      },
      "outputs": [],
      "source": [
        "# 모든 페이지 URL 리스트\n",
        "base_url = 'https://finance.naver.com/news/news_list.naver?mode=RANK&page='\n",
        "page_urls = [base_url + str(page) for page in range(1, 5)]  # 1~4 페이지\n"
      ]
    },
    {
      "cell_type": "code",
      "execution_count": null,
      "metadata": {
        "colab": {
          "background_save": true
        },
        "id": "969a755f-5867-4536-a3d6-a692ade35832",
        "outputId": "3b173388-f82c-4547-da2f-1c5a3a5ae60e"
      },
      "outputs": [
        {
          "ename": "KeyboardInterrupt",
          "evalue": "",
          "output_type": "error",
          "traceback": [
            "\u001b[0;31m---------------------------------------------------------------------------\u001b[0m",
            "\u001b[0;31mKeyboardInterrupt\u001b[0m                         Traceback (most recent call last)",
            "\u001b[0;32m<ipython-input-9-7321d321bed6>\u001b[0m in \u001b[0;36m<cell line: 17>\u001b[0;34m()\u001b[0m\n\u001b[1;32m     17\u001b[0m \u001b[0;32mfor\u001b[0m \u001b[0mtitle\u001b[0m\u001b[0;34m,\u001b[0m \u001b[0mnews_url\u001b[0m \u001b[0;32min\u001b[0m \u001b[0mnews_data\u001b[0m\u001b[0;34m:\u001b[0m\u001b[0;34m\u001b[0m\u001b[0;34m\u001b[0m\u001b[0m\n\u001b[1;32m     18\u001b[0m     \u001b[0mbrowser\u001b[0m\u001b[0;34m.\u001b[0m\u001b[0mget\u001b[0m\u001b[0;34m(\u001b[0m\u001b[0mnews_url\u001b[0m\u001b[0;34m)\u001b[0m\u001b[0;34m\u001b[0m\u001b[0;34m\u001b[0m\u001b[0m\n\u001b[0;32m---> 19\u001b[0;31m     \u001b[0mtime\u001b[0m\u001b[0;34m.\u001b[0m\u001b[0msleep\u001b[0m\u001b[0;34m(\u001b[0m\u001b[0;36m3\u001b[0m\u001b[0;34m)\u001b[0m\u001b[0;34m\u001b[0m\u001b[0;34m\u001b[0m\u001b[0m\n\u001b[0m\u001b[1;32m     20\u001b[0m     \u001b[0;32mtry\u001b[0m\u001b[0;34m:\u001b[0m\u001b[0;34m\u001b[0m\u001b[0;34m\u001b[0m\u001b[0m\n\u001b[1;32m     21\u001b[0m         \u001b[0mcontent_element\u001b[0m \u001b[0;34m=\u001b[0m \u001b[0mbrowser\u001b[0m\u001b[0;34m.\u001b[0m\u001b[0mfind_element\u001b[0m\u001b[0;34m(\u001b[0m\u001b[0mBy\u001b[0m\u001b[0;34m.\u001b[0m\u001b[0mCSS_SELECTOR\u001b[0m\u001b[0;34m,\u001b[0m \u001b[0;34m'#newsct_article .go_trans._article_content'\u001b[0m\u001b[0;34m)\u001b[0m\u001b[0;34m\u001b[0m\u001b[0;34m\u001b[0m\u001b[0m\n",
            "\u001b[0;31mKeyboardInterrupt\u001b[0m: "
          ]
        }
      ],
      "source": [
        "news_data = []\n",
        "\n",
        "for page_url in page_urls:\n",
        "    browser.get(page_url)\n",
        "    time.sleep(3)  # 페이지 로딩을 기다리기 위해 잠시 대기\n",
        "    news_title_elements = browser.find_element(By.CLASS_NAME, \"hotNewsList\")\n",
        "    news_links = news_title_elements.find_elements(By.TAG_NAME, \"a\")\n",
        "\n",
        "    for link in news_links:\n",
        "        title = link.text\n",
        "        news_url = link.get_attribute('href')\n",
        "        news_data.append((title, news_url))\n",
        "\n",
        "# 뉴스 본문, 날짜, 시간 크롤링\n",
        "news_content_list = []\n",
        "\n",
        "for title, news_url in news_data:\n",
        "    browser.get(news_url)\n",
        "    time.sleep(3)\n",
        "    try:\n",
        "        content_element = browser.find_element(By.CSS_SELECTOR, '#newsct_article .go_trans._article_content')\n",
        "        content = content_element.text\n",
        "\n",
        "        # 날짜와 시간 크롤링 (예시: 날짜와 시간이 특정 CSS 셀렉터에 있다고 가정)\n",
        "        date_time_element = browser.find_element(By.CSS_SELECTOR, '#ct > div.media_end_head.go_trans > div.media_end_head_info.nv_notrans > div.media_end_head_info_datestamp > div:nth-child(1) > span')\n",
        "        date_time = date_time_element.text\n",
        "\n",
        "    except Exception as e:\n",
        "        content = \"본문을 가져올 수 없습니다.\"\n",
        "\n",
        "    news_content_list.append((title, content, date_time))\n"
      ]
    },
    {
      "cell_type": "code",
      "execution_count": null,
      "metadata": {
        "id": "OFFFTfpkQRrC"
      },
      "outputs": [],
      "source": [
        "from datetime import datetime"
      ]
    },
    {
      "cell_type": "code",
      "execution_count": null,
      "metadata": {
        "id": "888e3b67-d29a-4b4e-b3d3-44df3b894dae"
      },
      "outputs": [],
      "source": [
        "# 데이터프레임으로 변환\n",
        "df = pd.DataFrame(news_content_list, columns=[\"뉴스제목\", \"본문\", \"날짜\"])\n",
        "\n",
        "# 엑셀 파일로 저장\n",
        "current_date = datetime.now().strftime(\"%Y%m%d\")\n",
        "file_name = f'naver_news_content_{current_date}.xlsx'\n",
        "df.to_excel(file_name, index=False)\n",
        "\n",
        "# 드라이버 종료\n",
        "browser.quit()"
      ]
    },
    {
      "cell_type": "code",
      "execution_count": null,
      "metadata": {
        "id": "sD9AdmPPRc3g"
      },
      "outputs": [],
      "source": [
        "# 엑셀 파일로 저장\n",
        "current_date = datetime.now().strftime(\"%Y%m%d\")\n",
        "file_name = f'naver_news_content_{current_date}.xlsx'\n",
        "df.to_excel(file_name, index=False)\n",
        "\n",
        "df = pd.read_excel(file_name)\n",
        "df"
      ]
    },
    {
      "cell_type": "code",
      "execution_count": null,
      "metadata": {
        "id": "THkpKhgsTncG"
      },
      "outputs": [],
      "source": [
        "!pip install kss"
      ]
    },
    {
      "cell_type": "code",
      "execution_count": null,
      "metadata": {
        "id": "CIlpaUqok7ib"
      },
      "outputs": [],
      "source": [
        "import kss"
      ]
    },
    {
      "cell_type": "code",
      "execution_count": null,
      "metadata": {
        "id": "O5olA2uBUEzN"
      },
      "outputs": [],
      "source": [
        "# soynlp: 한국어 텍스트 데이터를 분석하고 처리하는 라이브러리\n",
        "!pip install soynlp"
      ]
    },
    {
      "cell_type": "code",
      "execution_count": null,
      "metadata": {
        "id": "mGQMAFkrlofo"
      },
      "outputs": [],
      "source": [
        "from soynlp.normalizer import *"
      ]
    },
    {
      "cell_type": "code",
      "execution_count": null,
      "metadata": {
        "id": "edwsSoefVt4c"
      },
      "outputs": [],
      "source": [
        "!pip install konlpy"
      ]
    },
    {
      "cell_type": "code",
      "execution_count": null,
      "metadata": {
        "id": "sZpirDOcdIr4"
      },
      "outputs": [],
      "source": [
        "!pip install mecab-python\n",
        "!bash <(curl -s https://raw.githubusercontent.com/konlpy/konlpy/master/scripts/mecab.sh)"
      ]
    },
    {
      "cell_type": "code",
      "execution_count": null,
      "metadata": {
        "id": "oQQxuNgImboK"
      },
      "outputs": [],
      "source": [
        "from konlpy.tag import Mecab"
      ]
    },
    {
      "cell_type": "code",
      "execution_count": null,
      "metadata": {
        "id": "zobcmVd5dwOc"
      },
      "outputs": [],
      "source": [
        "from tensorflow.keras.preprocessing.text import Tokenizer"
      ]
    },
    {
      "cell_type": "code",
      "execution_count": null,
      "metadata": {
        "id": "j1DvdW2hm_CM"
      },
      "outputs": [],
      "source": [
        "tokenizer = Tokenizer()"
      ]
    },
    {
      "cell_type": "code",
      "execution_count": null,
      "metadata": {
        "id": "p4wiaV1wnWsK"
      },
      "outputs": [],
      "source": [
        "# 불용어 사전 정의\n",
        "stopwords = ['이하', '바로', '＠','👆', '↑', '※']\n",
        "\n",
        "# 불용어 제거 함수\n",
        "def delete_stopwords(context):\n",
        "  preprocessed_text = []\n",
        "  for text in context:\n",
        "    text = [w for w in text.split(' ') if w not in stopwords] # text를 띄어쓰기로 구분하고 불용어사전에 없는 데이터만 리스트에 저장\n",
        "    preprocessed_text.append(' '.join(text)) # 띄어쓰기를 적용하여 리스트에 추가\n",
        "  return preprocessed_text"
      ]
    },
    {
      "cell_type": "code",
      "execution_count": null,
      "metadata": {
        "id": "EenRv8RWnXXX"
      },
      "outputs": [],
      "source": [
        "# HTML 태그를 제거하는 함수\n",
        "# re.sub(r'정규식', '대체될 텍스트', '문자열'): 문자열에서 패턴을 검색하고, 해당 패턴을 다른 문자열로 대체하는 역할\n",
        "def delete_html_tag(context):\n",
        "    processed_context = []\n",
        "    for text in context:\n",
        "        text = re.sub(r'<[%>]+Ws+(?=<)|<[^>]+>', '', text).strip()  # text에서 정규식에 해당하는 조건이 True가 되면 ''(제거)\n",
        "        if text:\n",
        "          processed_context.append(text)\n",
        "\n",
        "    return processed_context"
      ]
    },
    {
      "cell_type": "code",
      "execution_count": null,
      "metadata": {
        "id": "dLyVRPpknsWW"
      },
      "outputs": [],
      "source": [
        "# 문장을 분리하기 위한 함수\n",
        "def sentence_separator(processed_context):\n",
        "  splited_context = []\n",
        "\n",
        "  for text in processed_context:\n",
        "    text = text.strip()  # 양쪽 공백 제거\n",
        "    if text:\n",
        "      splited_text = kss.split_sentences(text)   # 문장 단위로 분리\n",
        "      splited_context.extend(splited_text)\n",
        "  return splited_context"
      ]
    },
    {
      "cell_type": "code",
      "execution_count": null,
      "metadata": {
        "id": "D5jtMV9pnsYi"
      },
      "outputs": [],
      "source": [
        "# 정규식을 통해 이메일 제거하는 함수\n",
        "def delete_email(context):\n",
        "    preprocessed_text = []\n",
        "    for text in context:\n",
        "        text = re.sub(r'[a-zA-Z0-9+-_.]+@[a-zA-Z0-9-]+\\.[a-zA-Z0-9-.]+', '', text).strip()\n",
        "        if text:\n",
        "            preprocessed_text.append(text)\n",
        "    return preprocessed_text"
      ]
    },
    {
      "cell_type": "code",
      "execution_count": null,
      "metadata": {
        "id": "YcxspRZMnscl"
      },
      "outputs": [],
      "source": [
        "# 정규식을 통한 해시태그 제거\n",
        "def delete_hashtag(context):\n",
        "  preprocessed_text = []\n",
        "  for text in context:\n",
        "    text = re.sub(r'#\\S+', '', text).strip()\n",
        "    if text:\n",
        "      preprocessed_text.append(text)\n",
        "  return preprocessed_text\n"
      ]
    },
    {
      "cell_type": "code",
      "execution_count": null,
      "metadata": {
        "id": "pQa1JWxpnser"
      },
      "outputs": [],
      "source": [
        "# 정규식을 통한 링크 제거\n",
        "def delete_copyright(context):\n",
        "    re_patterns = [\n",
        "        r'\\<저작권자(\\(c\\)|©|(C)|(\\(C\\))).+?\\>',\n",
        "        r'(Copyrights)|(\\(c\\))|(\\(C\\))|©|(C)|'\n",
        "    ]\n",
        "    preprocessed_text = []\n",
        "    for text in context:\n",
        "        for re_pattern in re_patterns:  # 위 패턴들만큼 반복\n",
        "            text = re.sub(re_pattern, \"\", text).strip()\n",
        "        if text:\n",
        "            preprocessed_text.append(text)\n",
        "    return preprocessed_text"
      ]
    },
    {
      "cell_type": "code",
      "execution_count": null,
      "metadata": {
        "id": "CREa6i5ZJnjg"
      },
      "outputs": [],
      "source": [
        "def delete_special_characters(context):\n",
        "    preprocessed_text = []\n",
        "    for text in context:\n",
        "        text = re.sub(r'[^가-힣a-zA-Z0-9\\s]', '', text).strip()\n",
        "        if text:\n",
        "            preprocessed_text.append(text)\n",
        "    return preprocessed_text"
      ]
    },
    {
      "cell_type": "code",
      "execution_count": null,
      "metadata": {
        "id": "HQ6I2JIHJopq"
      },
      "outputs": [],
      "source": [
        "!pip install soynlp\n",
        "from soynlp.normalizer import *\n",
        "\n",
        "def normalize_spacing(context):\n",
        "    normalized_text = []\n",
        "    for text in context:\n",
        "        text = normalize(text)\n",
        "        normalized_text.append(text)\n",
        "    return normalized_text"
      ]
    },
    {
      "cell_type": "code",
      "execution_count": null,
      "metadata": {
        "id": "kD4D01cRJpTX"
      },
      "outputs": [],
      "source": [
        "from konlpy.tag import Mecab\n",
        "\n",
        "mecab = Mecab()\n",
        "\n",
        "def extract_stems(context):\n",
        "    stemmed_text = []\n",
        "    for text in context:\n",
        "        stemmed_sentence = []\n",
        "        for word in mecab.morphs(text):\n",
        "            stemmed_sentence.append(word[:-1])  # 어간 추출\n",
        "        stemmed_text.append(' '.join(stemmed_sentence))\n",
        "    return stemmed_text"
      ]
    },
    {
      "cell_type": "code",
      "execution_count": null,
      "metadata": {
        "id": "HcVGXjzYJsTh"
      },
      "outputs": [],
      "source": []
    },
    {
      "cell_type": "code",
      "execution_count": null,
      "metadata": {
        "id": "tLKR9Y9An_Ex"
      },
      "outputs": [],
      "source": [
        "# OrderedDict: 순서가 있는 딕셔너리(Dictionary) 타입\n",
        "# 기존의 딕셔너리와는 달리 아이템이 추가된 순서를 기억\n",
        "from collections import OrderedDict\n",
        "\n",
        "# 중복된 문장을 제거하는 함수\n",
        "def duplicated_sentence_normalizer(context):\n",
        "  context = list(OrderedDict.fromkeys(context))\n",
        "  return context"
      ]
    },
    {
      "cell_type": "code",
      "execution_count": null,
      "metadata": {
        "id": "Ejtj3ajcoRSh"
      },
      "outputs": [],
      "source": [
        "# 객체 생성\n",
        "mecab = Mecab()\n",
        "morphs = mecab.pos('아버지가방에들어가신다', join=False)\n",
        "\n",
        "# 형태소 분석 필터링\n",
        "# 명사(NN), 동사(V), 형용사(J)의 포함 여부에 따라 문장 필터링\n",
        "# 주어진 텍스트에서 명사, 동사, 형용사가 모두 포함된 텍스트들만을 추출하여 반환\n",
        "def morph_filter(context):\n",
        "  NN_TAGS = ['NNG', 'NNP', 'NNB', 'NP']\n",
        "  V_TAGS = ['VV', 'VA', 'VX', 'VCP', 'VCN', 'XSN', 'XSA', 'XSV']\n",
        "  J_TAGS = ['JKS', 'J', 'JO', 'JK', 'JKC', 'JKG', 'JKB', 'JKV', 'JKQ',\n",
        "              'JX', 'JC', 'JKI', 'JKO', 'JKM', 'ETM']\n",
        "  preprocessed_text = []\n",
        "  for text in context:\n",
        "      morphs = mecab.pos(text, join=False)\n",
        "\n",
        "      # 존재하는지에 대한 여부\n",
        "      nn_flag = False\n",
        "      v_flag = False\n",
        "      j_flag = False\n",
        "      for morph in morphs:\n",
        "        pos_tags = morph[1].split(\"+\")   # ('신다', 'EP+EC') -> ['EP', 'EC']\n",
        "        for pos_tag in pos_tags:\n",
        "          if not nn_flag and pos_tag in NN_TAGS:  # True면 False\n",
        "              nn_flag = True\n",
        "          if not v_flag and pos_tag in V_TAGS:\n",
        "              v_flag = True\n",
        "          if not j_flag and pos_tag in J_TAGS:\n",
        "              j_flag = True\n",
        "        if nn_flag and v_flag and j_flag:   # 모두 True라면\n",
        "          preprocessed_text.append(text)\n",
        "          break\n",
        "  return preprocessed_text\n"
      ]
    },
    {
      "cell_type": "code",
      "execution_count": null,
      "metadata": {
        "id": "HzgmMAXcoWJd"
      },
      "outputs": [],
      "source": [
        "def min_max_filter(min_len, max_len, context):\n",
        "      filtered_text = []\n",
        "\n",
        "      for text in context:\n",
        "        if min_len <= len(text) and len(text) < max_len:\n",
        "          filtered_text.append(text)\n",
        "\n",
        "      return filtered_text\n"
      ]
    },
    {
      "cell_type": "code",
      "execution_count": null,
      "metadata": {
        "id": "fVaPtSv2BvPx"
      },
      "outputs": [],
      "source": [
        "for index, row in df.iterrows():\n",
        "    title = row['뉴스제목']  # 엑셀 파일의 '제목' 컬럼\n",
        "    content = row['본문']   # 엑셀 파일의 '본문' 컬럼\n",
        "\n",
        "    # article 객체를 가정하고 title과 text에 할당\n",
        "    article = type('', (), {})()  # 빈 객체 생성\n",
        "    article.title = title\n",
        "    article.text = content\n",
        "\n",
        "    print('title:', article.title)\n",
        "    print('content:', article.text)\n",
        "\n",
        "    context = article.text.split('\\n')\n",
        "\n",
        "    context_with_index = [(i, text) for i, text in enumerate(context)]\n",
        "\n",
        "    processed_context = delete_stopwords(context)\n",
        "\n",
        "    processed_context_with_index = [(i, text) for i, text in enumerate(processed_context)]\n",
        "\n",
        "    processed_context = delete_html_tag(processed_context)\n",
        "\n",
        "    processed_context_with_index = [(i, text) for i, text in enumerate(processed_context)]\n",
        "\n",
        "    splited_context = sentence_separator(processed_context)\n",
        "\n",
        "    splited_context_with_index = [(i, text) for i, text in enumerate(splited_context)]\n",
        "\n",
        "    processed_context = delete_email(splited_context)\n",
        "\n",
        "    processed_context_with_index = [(i, text) for i, text in enumerate(processed_context)]\n",
        "\n",
        "    processed_context = delete_hashtag(processed_context)\n",
        "\n",
        "    processed_context_with_index = [(i, text) for i, text in enumerate(processed_context)]\n",
        "\n",
        "    processed_context = delete_copyright(processed_context)\n",
        "    # 여기부터 추가\n",
        "    normalized_context = duplicated_sentence_normalizer(processed_context)\n",
        "\n",
        "    post_processed_context = morph_filter(normalized_context)\n",
        "\n",
        "    post_processed_context = min_max_filter(20, 60, post_processed_context)\n",
        "    # 추가 여기까지\n",
        "    processed_context_with_index = [(i, text) for i, text in enumerate(processed_context)]\n",
        "\n",
        "    normalized_context = duplicated_sentence_normalizer(processed_context)\n",
        "\n",
        "    normalized_context_with_index = [(i, text) for i, text in enumerate(normalized_context)]\n",
        "\n",
        "    post_processed_context = morph_filter(normalized_context)\n",
        "\n",
        "    post_processed_context = min_max_filter(20, 60, post_processed_context) # 20글자 이상 60글자 미만의 문장들만 반환\n",
        "\n",
        "    # 토큰화\n",
        "    tokenizer = Tokenizer()\n",
        "    tokenizer.fit_on_texts(post_processed_context)\n",
        "\n",
        "    # word_index: 토큰화된 토큰들이 인덱스화됨\n",
        "    word2idx = tokenizer.word_index\n",
        "\n",
        "    # 토큰 인코딩\n",
        "    encoded = tokenizer.texts_to_sequences(post_processed_context)\n",
        "    print(encoded)\n",
        "\n",
        "    # 임베딩\n",
        "    vocab_size = len(word2idx) +1\n",
        "    print(f'단어 사전의 크기는: {vocab_size}개\\n')\n",
        "    print('-----------------------------------------\\n')"
      ]
    },
    {
      "cell_type": "code",
      "execution_count": null,
      "metadata": {
        "id": "FOn0zLHYes0Z"
      },
      "outputs": [],
      "source": [
        "from sklearn.feature_extraction.text import TfidfVectorizer\n",
        "\n",
        "# 전처리된 텍스트 데이터를 사용\n",
        "preprocessed_texts = post_processed_context  # 전처리된 텍스트 리스트\n",
        "\n",
        "# TF-IDF 벡터라이저 설정\n",
        "tfidf_vectorizer = TfidfVectorizer(tokenizer=lambda x: mecab.nouns(x))\n",
        "tfidf_matrix = tfidf_vectorizer.fit_transform(preprocessed_texts)\n"
      ]
    }
  ],
  "metadata": {
    "accelerator": "GPU",
    "colab": {
      "gpuType": "T4",
      "provenance": [],
      "include_colab_link": true
    },
    "kernelspec": {
      "display_name": "Python 3",
      "name": "python3"
    },
    "language_info": {
      "codemirror_mode": {
        "name": "ipython",
        "version": 3
      },
      "file_extension": ".py",
      "mimetype": "text/x-python",
      "name": "python",
      "nbconvert_exporter": "python",
      "pygments_lexer": "ipython3",
      "version": "3.12.4"
    }
  },
  "nbformat": 4,
  "nbformat_minor": 0
}